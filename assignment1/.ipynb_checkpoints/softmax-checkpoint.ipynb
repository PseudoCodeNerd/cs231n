{
 "cells": [
  {
   "cell_type": "markdown",
   "metadata": {
    "tags": [
     "pdf-title"
    ]
   },
   "source": [
    "# Softmax exercise\n",
    "\n",
    "*Complete and hand in this completed worksheet (including its outputs and any supporting code outside of the worksheet) with your assignment submission. For more details see the [assignments page](http://vision.stanford.edu/teaching/cs231n/assignments.html) on the course website.*\n",
    "\n",
    "This exercise is analogous to the SVM exercise. You will:\n",
    "\n",
    "- implement a fully-vectorized **loss function** for the Softmax classifier\n",
    "- implement the fully-vectorized expression for its **analytic gradient**\n",
    "- **check your implementation** with numerical gradient\n",
    "- use a validation set to **tune the learning rate and regularization** strength\n",
    "- **optimize** the loss function with **SGD**\n",
    "- **visualize** the final learned weights\n"
   ]
  },
  {
   "cell_type": "code",
   "execution_count": 1,
   "metadata": {
    "tags": [
     "pdf-ignore"
    ]
   },
   "outputs": [],
   "source": [
    "import random\n",
    "import numpy as np\n",
    "from cs231n.data_utils import load_CIFAR10\n",
    "import matplotlib.pyplot as plt\n",
    "\n",
    "%matplotlib inline\n",
    "plt.rcParams['figure.figsize'] = (10.0, 8.0) # set default size of plots\n",
    "plt.rcParams['image.interpolation'] = 'nearest'\n",
    "plt.rcParams['image.cmap'] = 'gray'\n",
    "\n",
    "# for auto-reloading extenrnal modules\n",
    "# see http://stackoverflow.com/questions/1907993/autoreload-of-modules-in-ipython\n",
    "%load_ext autoreload\n",
    "%autoreload 2"
   ]
  },
  {
   "cell_type": "code",
   "execution_count": 2,
   "metadata": {
    "tags": [
     "pdf-ignore"
    ]
   },
   "outputs": [
    {
     "name": "stdout",
     "output_type": "stream",
     "text": [
      "Train data shape:  (49000, 3073)\n",
      "Train labels shape:  (49000,)\n",
      "Validation data shape:  (1000, 3073)\n",
      "Validation labels shape:  (1000,)\n",
      "Test data shape:  (1000, 3073)\n",
      "Test labels shape:  (1000,)\n",
      "dev data shape:  (500, 3073)\n",
      "dev labels shape:  (500,)\n"
     ]
    }
   ],
   "source": [
    "def get_CIFAR10_data(num_training=49000, num_validation=1000, num_test=1000, num_dev=500):\n",
    "    \"\"\"\n",
    "    Load the CIFAR-10 dataset from disk and perform preprocessing to prepare\n",
    "    it for the linear classifier. These are the same steps as we used for the\n",
    "    SVM, but condensed to a single function.  \n",
    "    \"\"\"\n",
    "    # Load the raw CIFAR-10 data\n",
    "    cifar10_dir = 'cs231n/datasets/cifar-10-batches-py'\n",
    "    \n",
    "    # Cleaning up variables to prevent loading data multiple times (which may cause memory issue)\n",
    "    try:\n",
    "       del X_train, y_train\n",
    "       del X_test, y_test\n",
    "       print('Clear previously loaded data.')\n",
    "    except:\n",
    "       pass\n",
    "\n",
    "    X_train, y_train, X_test, y_test = load_CIFAR10(cifar10_dir)\n",
    "    \n",
    "    # subsample the data\n",
    "    mask = list(range(num_training, num_training + num_validation))\n",
    "    X_val = X_train[mask]\n",
    "    y_val = y_train[mask]\n",
    "    mask = list(range(num_training))\n",
    "    X_train = X_train[mask]\n",
    "    y_train = y_train[mask]\n",
    "    mask = list(range(num_test))\n",
    "    X_test = X_test[mask]\n",
    "    y_test = y_test[mask]\n",
    "    mask = np.random.choice(num_training, num_dev, replace=False)\n",
    "    X_dev = X_train[mask]\n",
    "    y_dev = y_train[mask]\n",
    "    \n",
    "    # Preprocessing: reshape the image data into rows\n",
    "    X_train = np.reshape(X_train, (X_train.shape[0], -1))\n",
    "    X_val = np.reshape(X_val, (X_val.shape[0], -1))\n",
    "    X_test = np.reshape(X_test, (X_test.shape[0], -1))\n",
    "    X_dev = np.reshape(X_dev, (X_dev.shape[0], -1))\n",
    "    \n",
    "    # Normalize the data: subtract the mean image\n",
    "    mean_image = np.mean(X_train, axis = 0)\n",
    "    X_train -= mean_image\n",
    "    X_val -= mean_image\n",
    "    X_test -= mean_image\n",
    "    X_dev -= mean_image\n",
    "    \n",
    "    # add bias dimension and transform into columns\n",
    "    X_train = np.hstack([X_train, np.ones((X_train.shape[0], 1))])\n",
    "    X_val = np.hstack([X_val, np.ones((X_val.shape[0], 1))])\n",
    "    X_test = np.hstack([X_test, np.ones((X_test.shape[0], 1))])\n",
    "    X_dev = np.hstack([X_dev, np.ones((X_dev.shape[0], 1))])\n",
    "    \n",
    "    return X_train, y_train, X_val, y_val, X_test, y_test, X_dev, y_dev\n",
    "\n",
    "\n",
    "# Invoke the above function to get our data.\n",
    "X_train, y_train, X_val, y_val, X_test, y_test, X_dev, y_dev = get_CIFAR10_data()\n",
    "print('Train data shape: ', X_train.shape)\n",
    "print('Train labels shape: ', y_train.shape)\n",
    "print('Validation data shape: ', X_val.shape)\n",
    "print('Validation labels shape: ', y_val.shape)\n",
    "print('Test data shape: ', X_test.shape)\n",
    "print('Test labels shape: ', y_test.shape)\n",
    "print('dev data shape: ', X_dev.shape)\n",
    "print('dev labels shape: ', y_dev.shape)"
   ]
  },
  {
   "cell_type": "markdown",
   "metadata": {},
   "source": [
    "## Softmax Classifier\n",
    "\n",
    "Your code for this section will all be written inside `cs231n/classifiers/softmax.py`.\n"
   ]
  },
  {
   "cell_type": "code",
   "execution_count": 3,
   "metadata": {},
   "outputs": [
    {
     "name": "stdout",
     "output_type": "stream",
     "text": [
      "loss: 2.378047\n",
      "sanity check: 2.302585\n"
     ]
    }
   ],
   "source": [
    "# First implement the naive softmax loss function with nested loops.\n",
    "# Open the file cs231n/classifiers/softmax.py and implement the\n",
    "# softmax_loss_naive function.\n",
    "\n",
    "from cs231n.classifiers.softmax import softmax_loss_naive\n",
    "import time\n",
    "\n",
    "# Generate a random softmax weight matrix and use it to compute the loss.\n",
    "W = np.random.randn(3073, 10) * 0.0001\n",
    "loss, grad = softmax_loss_naive(W, X_dev, y_dev, 0.0)\n",
    "\n",
    "# As a rough sanity check, our loss should be something close to -log(0.1).\n",
    "print('loss: %f' % loss)\n",
    "print('sanity check: %f' % (-np.log(0.1)))"
   ]
  },
  {
   "cell_type": "markdown",
   "metadata": {
    "tags": [
     "pdf-inline"
    ]
   },
   "source": [
    "**Inline Question 1**\n",
    "\n",
    "**Why do we expect our loss to be close to -log(0.1)? Explain briefly.**\n",
    "\n",
    "$\\color{blue}{\\textit Your Answer:}$ Since above we're given 10 classes randomly, we can expect that on average each of these classes have a probability of 0.1. By applying the softmax formula, we get the loss to be close to $-log(0.1)$.\n",
    "\n"
   ]
  },
  {
   "cell_type": "code",
   "execution_count": 4,
   "metadata": {},
   "outputs": [
    {
     "name": "stdout",
     "output_type": "stream",
     "text": [
      "numerical: -0.300047 analytic: -0.300047, relative error: 1.179609e-07\n",
      "numerical: 0.455394 analytic: 0.455394, relative error: 2.989037e-08\n",
      "numerical: 0.965712 analytic: 0.965712, relative error: 5.507721e-08\n",
      "numerical: 0.229218 analytic: 0.229218, relative error: 2.437353e-07\n",
      "numerical: 0.560912 analytic: 0.560912, relative error: 7.948891e-08\n",
      "numerical: 0.539819 analytic: 0.539819, relative error: 1.719193e-08\n",
      "numerical: 1.721108 analytic: 1.721108, relative error: 3.625317e-08\n",
      "numerical: -1.164813 analytic: -1.164813, relative error: 1.654328e-08\n",
      "numerical: 0.231073 analytic: 0.231073, relative error: 4.762176e-08\n",
      "numerical: 0.664233 analytic: 0.664233, relative error: 1.590655e-08\n",
      "numerical: 0.059044 analytic: 0.059044, relative error: 1.011073e-07\n",
      "numerical: -0.048454 analytic: -0.048454, relative error: 2.232189e-07\n",
      "numerical: -0.921155 analytic: -0.921155, relative error: 2.591088e-08\n",
      "numerical: 4.228444 analytic: 4.228444, relative error: 1.149242e-08\n",
      "numerical: 0.151069 analytic: 0.151069, relative error: 1.752625e-07\n",
      "numerical: -0.598337 analytic: -0.598337, relative error: 1.920326e-08\n",
      "numerical: -0.867658 analytic: -0.867658, relative error: 1.012421e-08\n",
      "numerical: -0.009551 analytic: -0.009551, relative error: 5.697257e-08\n",
      "numerical: -0.781547 analytic: -0.781547, relative error: 5.682646e-09\n",
      "numerical: 0.323526 analytic: 0.323526, relative error: 8.074568e-08\n"
     ]
    }
   ],
   "source": [
    "# Complete the implementation of softmax_loss_naive and implement a (naive)\n",
    "# version of the gradient that uses nested loops.\n",
    "loss, grad = softmax_loss_naive(W, X_dev, y_dev, 0.0)\n",
    "\n",
    "# As we did for the SVM, use numeric gradient checking as a debugging tool.\n",
    "# The numeric gradient should be close to the analytic gradient.\n",
    "from cs231n.gradient_check import grad_check_sparse\n",
    "f = lambda w: softmax_loss_naive(w, X_dev, y_dev, 0.0)[0]\n",
    "grad_numerical = grad_check_sparse(f, W, grad, 10)\n",
    "\n",
    "# similar to SVM case, do another gradient check with regularization\n",
    "loss, grad = softmax_loss_naive(W, X_dev, y_dev, 5e1)\n",
    "f = lambda w: softmax_loss_naive(w, X_dev, y_dev, 5e1)[0]\n",
    "grad_numerical = grad_check_sparse(f, W, grad, 10)"
   ]
  },
  {
   "cell_type": "code",
   "execution_count": 5,
   "metadata": {},
   "outputs": [
    {
     "name": "stdout",
     "output_type": "stream",
     "text": [
      "naive loss: 2.378047e+00 computed in 0.171589s\n",
      "vectorized loss: 2.378047e+00 computed in 0.005893s\n",
      "Loss difference: 0.000000\n",
      "Gradient difference: 0.000000\n"
     ]
    }
   ],
   "source": [
    "# Now that we have a naive implementation of the softmax loss function and its gradient,\n",
    "# implement a vectorized version in softmax_loss_vectorized.\n",
    "# The two versions should compute the same results, but the vectorized version should be\n",
    "# much faster.\n",
    "tic = time.time()\n",
    "loss_naive, grad_naive = softmax_loss_naive(W, X_dev, y_dev, 0.000005)\n",
    "toc = time.time()\n",
    "print('naive loss: %e computed in %fs' % (loss_naive, toc - tic))\n",
    "# print(grad_naive)\n",
    "from cs231n.classifiers.softmax import softmax_loss_vectorized\n",
    "tic = time.time()\n",
    "loss_vectorized, grad_vectorized = softmax_loss_vectorized(W, X_dev, y_dev, 0.000005)\n",
    "toc = time.time()\n",
    "print('vectorized loss: %e computed in %fs' % (loss_vectorized, toc - tic))\n",
    "# print(grad_vectorized)\n",
    "# As we did for the SVM, we use the Frobenius norm to compare the two versions\n",
    "# of the gradient.\n",
    "grad_difference = np.linalg.norm(grad_naive - grad_vectorized, ord='fro')\n",
    "print('Loss difference: %f' % np.abs(loss_naive - loss_vectorized))\n",
    "print('Gradient difference: %f' % grad_difference)"
   ]
  },
  {
   "cell_type": "code",
   "execution_count": 9,
   "metadata": {
    "id": "tuning",
    "tags": [
     "code"
    ]
   },
   "outputs": [
    {
     "name": "stdout",
     "output_type": "stream",
     "text": [
      "lr 1.000000e-08 reg 1.000000e+02 train accuracy: 0.126878 val accuracy: 0.130000\n",
      "lr 1.000000e-08 reg 5.000000e+02 train accuracy: 0.150980 val accuracy: 0.152000\n",
      "lr 1.000000e-08 reg 1.000000e+03 train accuracy: 0.110918 val accuracy: 0.108000\n",
      "lr 1.000000e-08 reg 5.000000e+03 train accuracy: 0.135408 val accuracy: 0.119000\n",
      "lr 1.000000e-08 reg 1.000000e+04 train accuracy: 0.139551 val accuracy: 0.145000\n",
      "lr 1.000000e-08 reg 5.000000e+04 train accuracy: 0.156837 val accuracy: 0.171000\n",
      "lr 5.000000e-08 reg 1.000000e+02 train accuracy: 0.191102 val accuracy: 0.199000\n",
      "lr 5.000000e-08 reg 5.000000e+02 train accuracy: 0.218694 val accuracy: 0.227000\n",
      "lr 5.000000e-08 reg 1.000000e+03 train accuracy: 0.201408 val accuracy: 0.203000\n",
      "lr 5.000000e-08 reg 5.000000e+03 train accuracy: 0.220714 val accuracy: 0.215000\n",
      "lr 5.000000e-08 reg 1.000000e+04 train accuracy: 0.245490 val accuracy: 0.268000\n",
      "lr 5.000000e-08 reg 5.000000e+04 train accuracy: 0.307796 val accuracy: 0.322000\n",
      "lr 1.000000e-07 reg 1.000000e+02 train accuracy: 0.226367 val accuracy: 0.242000\n",
      "lr 1.000000e-07 reg 5.000000e+02 train accuracy: 0.236612 val accuracy: 0.246000\n",
      "lr 1.000000e-07 reg 1.000000e+03 train accuracy: 0.241796 val accuracy: 0.238000\n",
      "lr 1.000000e-07 reg 5.000000e+03 train accuracy: 0.288694 val accuracy: 0.299000\n",
      "lr 1.000000e-07 reg 1.000000e+04 train accuracy: 0.327551 val accuracy: 0.339000\n",
      "lr 1.000000e-07 reg 5.000000e+04 train accuracy: 0.308143 val accuracy: 0.324000\n",
      "lr 5.000000e-07 reg 1.000000e+02 train accuracy: 0.307490 val accuracy: 0.308000\n",
      "lr 5.000000e-07 reg 5.000000e+02 train accuracy: 0.336143 val accuracy: 0.333000\n",
      "lr 5.000000e-07 reg 1.000000e+03 train accuracy: 0.358000 val accuracy: 0.356000\n",
      "lr 5.000000e-07 reg 5.000000e+03 train accuracy: 0.373429 val accuracy: 0.370000\n",
      "lr 5.000000e-07 reg 1.000000e+04 train accuracy: 0.349367 val accuracy: 0.354000\n",
      "lr 5.000000e-07 reg 5.000000e+04 train accuracy: 0.296673 val accuracy: 0.308000\n",
      "lr 1.000000e-06 reg 1.000000e+02 train accuracy: 0.344429 val accuracy: 0.324000\n",
      "lr 1.000000e-06 reg 5.000000e+02 train accuracy: 0.379612 val accuracy: 0.377000\n",
      "lr 1.000000e-06 reg 1.000000e+03 train accuracy: 0.395184 val accuracy: 0.378000\n",
      "lr 1.000000e-06 reg 5.000000e+03 train accuracy: 0.368061 val accuracy: 0.366000\n",
      "lr 1.000000e-06 reg 1.000000e+04 train accuracy: 0.348551 val accuracy: 0.349000\n",
      "lr 1.000000e-06 reg 5.000000e+04 train accuracy: 0.280980 val accuracy: 0.292000\n",
      "lr 5.000000e-06 reg 1.000000e+02 train accuracy: 0.388184 val accuracy: 0.365000\n",
      "lr 5.000000e-06 reg 5.000000e+02 train accuracy: 0.389408 val accuracy: 0.392000\n",
      "lr 5.000000e-06 reg 1.000000e+03 train accuracy: 0.339102 val accuracy: 0.331000\n",
      "lr 5.000000e-06 reg 5.000000e+03 train accuracy: 0.316735 val accuracy: 0.341000\n",
      "lr 5.000000e-06 reg 1.000000e+04 train accuracy: 0.271102 val accuracy: 0.270000\n",
      "lr 5.000000e-06 reg 5.000000e+04 train accuracy: 0.136000 val accuracy: 0.141000\n",
      "best validation accuracy achieved during cross-validation: 0.392000\n"
     ]
    }
   ],
   "source": [
    "# Use the validation set to tune hyperparameters (regularization strength and\n",
    "# learning rate). You should experiment with different ranges for the learning\n",
    "# rates and regularization strengths; if you are careful you should be able to\n",
    "# get a classification accuracy of over 0.35 on the validation set.\n",
    "\n",
    "from cs231n.classifiers import Softmax\n",
    "results = {}\n",
    "best_val = -1\n",
    "best_softmax = None\n",
    "\n",
    "################################################################################\n",
    "# TODO:                                                                        #\n",
    "# Use the validation set to set the learning rate and regularization strength. #\n",
    "# This should be identical to the validation that you did for the SVM; save    #\n",
    "# the best trained softmax classifer in best_softmax.                          #\n",
    "################################################################################\n",
    "\n",
    "learning_rates = [1e-8, 5e-8, 1e-7, 5e-7, 1e-6, 5e-6]\n",
    "regularization_strengths = [1e2, 5e2, 1e3, 5e3, 1e4, 5e4, 1e5, 5e5]\n",
    "\n",
    "for lr in learning_rates:\n",
    "    for r in regularization_strengths:\n",
    "        classifier = Softmax()\n",
    "        classifier.train(X_train, y_train, learning_rate=lr, reg=r, num_iters=1000)\n",
    "        train_pred = classifier.predict(X_train)\n",
    "        val_pred = classifier.predict(X_val)\n",
    "        train_acc = np.mean(y_train == train_pred)\n",
    "        val_acc = np.mean(y_val == val_pred)\n",
    "        if val_acc > best_val:\n",
    "            best_val = val_acc\n",
    "            best_softmax = classifier\n",
    "        results[(lr, r)] = (train_acc, val_acc)\n",
    "\n",
    "# *****END OF YOUR CODE (DO NOT DELETE/MODIFY THIS LINE)*****\n",
    "    \n",
    "# Print out results.\n",
    "for lr, reg in sorted(results):\n",
    "    train_accuracy, val_accuracy = results[(lr, reg)]\n",
    "    print('lr %e reg %e train accuracy: %f val accuracy: %f' % (\n",
    "                lr, reg, train_accuracy, val_accuracy))\n",
    "    \n",
    "print('best validation accuracy achieved during cross-validation: %f' % best_val)"
   ]
  },
  {
   "cell_type": "code",
   "execution_count": 10,
   "metadata": {
    "id": "test"
   },
   "outputs": [
    {
     "name": "stdout",
     "output_type": "stream",
     "text": [
      "softmax on raw pixels final test set accuracy: 0.376000\n"
     ]
    }
   ],
   "source": [
    "# evaluate on test set\n",
    "# Evaluate the best softmax on test set\n",
    "y_test_pred = best_softmax.predict(X_test)\n",
    "test_accuracy = np.mean(y_test == y_test_pred)\n",
    "print('softmax on raw pixels final test set accuracy: %f' % (test_accuracy, ))"
   ]
  },
  {
   "cell_type": "markdown",
   "metadata": {
    "tags": [
     "pdf-inline"
    ]
   },
   "source": [
    "**Inline Question 2** - *True or False*\n",
    "\n",
    "Suppose the overall training loss is defined as the sum of the per-datapoint loss over all training examples. It is possible to add a new datapoint to a training set that would leave the SVM loss unchanged, but this is not the case with the Softmax classifier loss.\n",
    "\n",
    "$\\color{blue}{\\textit Your Answer:}$ Yes \n",
    "\n",
    "\n",
    "$\\color{blue}{\\textit Your Explanation:}$\n",
    "If the new data point has a score that is out of the margin range from the correct class score, SVM loss wouldn't change. However, in Softmax loss, if the score of the new added datapoint be close to a very large number, it will adversely affect the loss, but definitely the loss of Softmax will change.\n"
   ]
  },
  {
   "cell_type": "code",
   "execution_count": 11,
   "metadata": {},
   "outputs": [
    {
     "data": {
      "image/png": "[encoded data removed]",
      "text/plain": [
       "<Figure size 432x288 with 10 Axes>"
      ]
     },
     "metadata": {
      "needs_background": "light"
     },
     "output_type": "display_data"
    }
   ],
   "source": [
    "# Visualize the learned weights for each class\n",
    "w = best_softmax.W[:-1,:] # strip out the bias\n",
    "w = w.reshape(32, 32, 3, 10)\n",
    "\n",
    "w_min, w_max = np.min(w), np.max(w)\n",
    "\n",
    "classes = ['plane', 'car', 'bird', 'cat', 'deer', 'dog', 'frog', 'horse', 'ship', 'truck']\n",
    "for i in range(10):\n",
    "    plt.subplot(2, 5, i + 1)\n",
    "    \n",
    "    # Rescale the weights to be between 0 and 255\n",
    "    wimg = 255.0 * (w[:, :, :, i].squeeze() - w_min) / (w_max - w_min)\n",
    "    plt.imshow(wimg.astype('uint8'))\n",
    "    plt.axis('off')\n",
    "    plt.title(classes[i])"
   ]
  },
  {
   "cell_type": "markdown",
   "metadata": {},
   "source": [
    "---\n",
    "# IMPORTANT\n",
    "\n",
    "This is the end of this question. Please do the following:\n",
    "\n",
    "1. Click `File -> Save` to make sure the latest checkpoint of this notebook is saved to your Drive.\n",
    "2. Execute the cell below to download the modified `.py` files back to your drive."
   ]
  }
 ],
 "metadata": {
  "kernelspec": {
   "display_name": "Python 3",
   "language": "python",
   "name": "python3"
  },
  "language_info": {
   "codemirror_mode": {
    "name": "ipython",
    "version": 3
   },
   "file_extension": ".py",
   "mimetype": "text/x-python",
   "name": "python",
   "nbconvert_exporter": "python",
   "pygments_lexer": "ipython3",
   "version": "3.7.4"
  }
 },
 "nbformat": 4,
 "nbformat_minor": 4
}
